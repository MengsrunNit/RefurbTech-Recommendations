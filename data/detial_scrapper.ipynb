{
 "cells": [
  {
   "cell_type": "code",
   "execution_count": 1,
   "id": "72d266a3",
   "metadata": {},
   "outputs": [],
   "source": [
    "# Install dependencies\n",
    "import requests\n",
    "from bs4 import BeautifulSoup\n",
    "from urllib.parse import urljoin\n",
    "import json\n",
    "import re\n"
   ]
  },
  {
   "cell_type": "code",
   "execution_count": null,
   "id": "a4727f0a",
   "metadata": {},
   "outputs": [],
   "source": [
    "url = \"https://www.gsmarena.com/apple_iphone_17_pro_max-13964.php\"\n",
    "session = requests.Session()\n",
    "headers = {\"User-Agent\": \"Mozilla/5.0\"}\n",
    "seen_pages = set()\n",
    "page_num = 1\n",
    "phones_data = []"
   ]
  },
  {
   "cell_type": "code",
   "execution_count": null,
   "id": "85f15681",
   "metadata": {},
   "outputs": [],
   "source": [
    "while True:\n",
    "    print(f\"📄 Scraping page {page_num}...\")\n",
    "    \n",
    "    # Request and parse the page\n",
    "    r = session.get(url, headers=headers, timeout=15)\n",
    "    r.raise_for_status()\n",
    "    soup = BeautifulSoup(r.text, \"html.parser\")\n",
    "    \n",
    "    page_phones = 0\n",
    "    page_filtered = 0\n",
    "\n",
    "    "
   ]
  }
 ],
 "metadata": {
  "kernelspec": {
   "display_name": ".venv",
   "language": "python",
   "name": "python3"
  },
  "language_info": {
   "codemirror_mode": {
    "name": "ipython",
    "version": 3
   },
   "file_extension": ".py",
   "mimetype": "text/x-python",
   "name": "python",
   "nbconvert_exporter": "python",
   "pygments_lexer": "ipython3",
   "version": "3.12.3"
  }
 },
 "nbformat": 4,
 "nbformat_minor": 5
}
